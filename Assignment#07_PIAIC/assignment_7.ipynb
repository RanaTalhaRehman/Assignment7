{
 "cells": [
  {
   "cell_type": "markdown",
   "metadata": {},
   "source": [
    "Instructions:\n",
    "You are tasked with creating a Python program that serves as an interactive tool for a friend who enjoys exploring numbers. The program should begin by prompting the user to enter their name and then ask them for three of their favorite numbers. After gathering this information, the program should greet the user with a personalized message that includes their name. The three numbers provided by the user should be stored in a list. The program should then check if any of the numbers are even or odd, and store this information in a separate list of tuples, where each tuple contains the number and a string indicating whether it is \"even\" or \"odd\". Following this, the program should use a for loop to iterate over the list of numbers, and for each number, it should create a tuple containing the number and its square. These tuples should be printed in a creative and engaging format. Additionally, the program should calculate the sum of the three numbers and print the result, accompanied by an encouraging message. Finally, the program should determine if the sum is a prime number and notify the user with an appropriate message. The goal is to make the tool both enjoyable and informative, allowing the user to explore their favorite numbers in a fun and interactive way, while also introducing some interesting logical checks.\n",
    "\n",
    "Example Output:\n",
    "Enter your name: Alex\n",
    "Enter your first favorite number: 4\n",
    "Enter your second favorite number: 6\n",
    "Enter your third favorite number: 9\n",
    "\n",
    "Hello, Alex! Let's explore your favorite numbers:\n",
    "The number 4 is even.\n",
    "The number 6 is even.\n",
    "The number 9 is odd.\n",
    "The number 4 and its square: (4, 16)\n",
    "The number 6 and its square: (6, 36)\n",
    "The number 9 and its square: (9, 81)\n",
    "\n",
    "Amazing! The sum of your favorite numbers is: 19\n",
    "Wow, 19 is a prime number!\n"
   ]
  },
  {
   "cell_type": "code",
   "execution_count": 1,
   "metadata": {},
   "outputs": [],
   "source": [
    "#check if a number is prime\n",
    "def is_prime(n):\n",
    "    #Returns True if n is a prime number, else False.\n",
    "    if n <= 1:\n",
    "        return False\n",
    "    for i in range(2, n):\n",
    "        if n % i == 0:\n",
    "            return False\n",
    "    return True"
   ]
  },
  {
   "cell_type": "code",
   "execution_count": 2,
   "metadata": {},
   "outputs": [],
   "source": [
    "#check the nature of the numbers (even/odd)\n",
    "def check_even_odd(numbers):\n",
    "    even_odd_list = []\n",
    "    for num in numbers:\n",
    "        if num % 2 == 0:\n",
    "            even_odd_list.append((num, 'even'))\n",
    "        else:\n",
    "            even_odd_list.append((num, 'odd'))\n",
    "    return even_odd_list"
   ]
  },
  {
   "cell_type": "code",
   "execution_count": 3,
   "metadata": {},
   "outputs": [],
   "source": [
    "# Main function\n",
    "def favorite_numbers_explorer():\n",
    "    # input user name\n",
    "    name = input(\"Enter your name: \")\n",
    "    print(f\"\\nHello, {name}! Let's explore your favorite numbers:\")\n",
    "    \n",
    "    # input favorite numbers\n",
    "    numbers = []\n",
    "    for i in range(1, 4):\n",
    "        num = int(input(f\"Enter your {i} favorite number: \"))\n",
    "        numbers.append(num)\n",
    "    \n",
    "    # Identify number even or odd\n",
    "    even_odd = check_even_odd(numbers)\n",
    "    \n",
    "    # Print even/odd information\n",
    "    for num, parity in even_odd:\n",
    "        print(f\"The number {num} is {parity}.\")\n",
    "    \n",
    "    # Create tuples for squares and print them\n",
    "    print(\"\\nHere's something interesting about your numbers:\")\n",
    "    for num in numbers:\n",
    "        print(f\"The number {num} and its square: ({num}, {num**2})\")\n",
    "    \n",
    "    # Calculate and print the sum\n",
    "    total_sum = sum(numbers)\n",
    "    print(f\"\\nAmazing! The sum of your favorite numbers is: {total_sum}\")\n",
    "    \n",
    "    # Check if the sum is prime and print the result\n",
    "    if is_prime(total_sum):\n",
    "        print(f\"Wow, {total_sum} is a prime number!\")\n",
    "    else:\n",
    "        print(f\"{total_sum} is not a prime number, but it's still great!\")"
   ]
  },
  {
   "cell_type": "code",
   "execution_count": 4,
   "metadata": {},
   "outputs": [
    {
     "name": "stdout",
     "output_type": "stream",
     "text": [
      "\n",
      "Hello, Rana Talha Rehman! Let's explore your favorite numbers:\n",
      "The number 4 is even.\n",
      "The number 5 is odd.\n",
      "The number 9 is odd.\n",
      "\n",
      "Here's something interesting about your numbers:\n",
      "The number 4 and its square: (4, 16)\n",
      "The number 5 and its square: (5, 25)\n",
      "The number 9 and its square: (9, 81)\n",
      "\n",
      "Amazing! The sum of your favorite numbers is: 18\n",
      "18 is not a prime number, but it's still great!\n"
     ]
    }
   ],
   "source": [
    "# Call the main function\n",
    "favorite_numbers_explorer()"
   ]
  }
 ],
 "metadata": {
  "kernelspec": {
   "display_name": "Python 3",
   "language": "python",
   "name": "python3"
  },
  "language_info": {
   "codemirror_mode": {
    "name": "ipython",
    "version": 3
   },
   "file_extension": ".py",
   "mimetype": "text/x-python",
   "name": "python",
   "nbconvert_exporter": "python",
   "pygments_lexer": "ipython3",
   "version": "3.12.4"
  }
 },
 "nbformat": 4,
 "nbformat_minor": 2
}
